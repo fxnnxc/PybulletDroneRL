{
 "cells": [
  {
   "cell_type": "code",
   "execution_count": 1,
   "metadata": {},
   "outputs": [
    {
     "ename": "ModuleNotFoundError",
     "evalue": "No module named 'transforms3d'",
     "output_type": "error",
     "traceback": [
      "\u001b[0;31m---------------------------------------------------------------------------\u001b[0m",
      "\u001b[0;31mModuleNotFoundError\u001b[0m                       Traceback (most recent call last)",
      "Cell \u001b[0;32mIn[1], line 5\u001b[0m\n\u001b[1;32m      3\u001b[0m DEFAULT_OBS \u001b[38;5;241m=\u001b[39m ObservationType(\u001b[38;5;124m'\u001b[39m\u001b[38;5;124mkin\u001b[39m\u001b[38;5;124m'\u001b[39m) \u001b[38;5;66;03m# 'kin' or 'rgb'\u001b[39;00m\n\u001b[1;32m      4\u001b[0m DEFAULT_ACT \u001b[38;5;241m=\u001b[39m ActionType(\u001b[38;5;124m'\u001b[39m\u001b[38;5;124mpid\u001b[39m\u001b[38;5;124m'\u001b[39m) \u001b[38;5;66;03m# 'rpm' or 'pid' or 'vel' or 'one_d_rpm' or 'one_d_pid'\u001b[39;00m\n\u001b[0;32m----> 5\u001b[0m \u001b[38;5;28;01mfrom\u001b[39;00m \u001b[38;5;21;01mgym_pybullet_drones\u001b[39;00m\u001b[38;5;21;01m.\u001b[39;00m\u001b[38;5;21;01menvs\u001b[39;00m\u001b[38;5;21;01m.\u001b[39;00m\u001b[38;5;21;01mHoverAviary\u001b[39;00m \u001b[38;5;28;01mimport\u001b[39;00m HoverAviary\n\u001b[1;32m      7\u001b[0m env \u001b[38;5;241m=\u001b[39m HoverAviary(obs\u001b[38;5;241m=\u001b[39mDEFAULT_OBS, act\u001b[38;5;241m=\u001b[39mDEFAULT_ACT)\n",
      "File \u001b[0;32m/data1/bumjin/PybulletDroneRL/gym_pybullet_drones/envs/__init__.py:1\u001b[0m\n\u001b[0;32m----> 1\u001b[0m \u001b[38;5;28;01mfrom\u001b[39;00m \u001b[38;5;21;01mgym_pybullet_drones\u001b[39;00m\u001b[38;5;21;01m.\u001b[39;00m\u001b[38;5;21;01menvs\u001b[39;00m\u001b[38;5;21;01m.\u001b[39;00m\u001b[38;5;21;01mBetaAviary\u001b[39;00m \u001b[38;5;28;01mimport\u001b[39;00m BetaAviary\n\u001b[1;32m      2\u001b[0m \u001b[38;5;28;01mfrom\u001b[39;00m \u001b[38;5;21;01mgym_pybullet_drones\u001b[39;00m\u001b[38;5;21;01m.\u001b[39;00m\u001b[38;5;21;01menvs\u001b[39;00m\u001b[38;5;21;01m.\u001b[39;00m\u001b[38;5;21;01mCtrlAviary\u001b[39;00m \u001b[38;5;28;01mimport\u001b[39;00m CtrlAviary\n\u001b[1;32m      3\u001b[0m \u001b[38;5;28;01mfrom\u001b[39;00m \u001b[38;5;21;01mgym_pybullet_drones\u001b[39;00m\u001b[38;5;21;01m.\u001b[39;00m\u001b[38;5;21;01menvs\u001b[39;00m\u001b[38;5;21;01m.\u001b[39;00m\u001b[38;5;21;01mHoverAviary\u001b[39;00m \u001b[38;5;28;01mimport\u001b[39;00m HoverAviary\n",
      "File \u001b[0;32m/data1/bumjin/PybulletDroneRL/gym_pybullet_drones/envs/BetaAviary.py:9\u001b[0m\n\u001b[1;32m      6\u001b[0m \u001b[38;5;28;01mimport\u001b[39;00m \u001b[38;5;21;01msubprocess\u001b[39;00m\n\u001b[1;32m      7\u001b[0m \u001b[38;5;28;01mimport\u001b[39;00m \u001b[38;5;21;01mtime\u001b[39;00m\n\u001b[0;32m----> 9\u001b[0m \u001b[38;5;28;01mfrom\u001b[39;00m \u001b[38;5;21;01mtransforms3d\u001b[39;00m\u001b[38;5;21;01m.\u001b[39;00m\u001b[38;5;21;01mquaternions\u001b[39;00m \u001b[38;5;28;01mimport\u001b[39;00m rotate_vector, qconjugate\n\u001b[1;32m     11\u001b[0m \u001b[38;5;28;01mfrom\u001b[39;00m \u001b[38;5;21;01mgym_pybullet_drones\u001b[39;00m\u001b[38;5;21;01m.\u001b[39;00m\u001b[38;5;21;01menvs\u001b[39;00m\u001b[38;5;21;01m.\u001b[39;00m\u001b[38;5;21;01mBaseAviary\u001b[39;00m \u001b[38;5;28;01mimport\u001b[39;00m BaseAviary\n\u001b[1;32m     12\u001b[0m \u001b[38;5;28;01mfrom\u001b[39;00m \u001b[38;5;21;01mgym_pybullet_drones\u001b[39;00m\u001b[38;5;21;01m.\u001b[39;00m\u001b[38;5;21;01mutils\u001b[39;00m\u001b[38;5;21;01m.\u001b[39;00m\u001b[38;5;21;01menums\u001b[39;00m \u001b[38;5;28;01mimport\u001b[39;00m DroneModel, Physics\n",
      "\u001b[0;31mModuleNotFoundError\u001b[0m: No module named 'transforms3d'"
     ]
    }
   ],
   "source": [
    "from gym_pybullet_drones.utils.enums import ObservationType, ActionType\n",
    "\n",
    "DEFAULT_OBS = ObservationType('kin') # 'kin' or 'rgb'\n",
    "DEFAULT_ACT = ActionType('pid') # 'rpm' or 'pid' or 'vel' or 'one_d_rpm' or 'one_d_pid'\n",
    "from gym_pybullet_drones.envs.HoverAviary import HoverAviary\n",
    "\n",
    "env = HoverAviary(obs=DEFAULT_OBS, act=DEFAULT_ACT)"
   ]
  },
  {
   "cell_type": "code",
   "execution_count": null,
   "metadata": {},
   "outputs": [],
   "source": []
  }
 ],
 "metadata": {
  "kernelspec": {
   "display_name": "base",
   "language": "python",
   "name": "python3"
  },
  "language_info": {
   "codemirror_mode": {
    "name": "ipython",
    "version": 3
   },
   "file_extension": ".py",
   "mimetype": "text/x-python",
   "name": "python",
   "nbconvert_exporter": "python",
   "pygments_lexer": "ipython3",
   "version": "3.11.7"
  }
 },
 "nbformat": 4,
 "nbformat_minor": 2
}

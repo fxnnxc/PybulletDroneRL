{
 "cells": [
  {
   "cell_type": "code",
   "execution_count": 10,
   "metadata": {},
   "outputs": [
    {
     "data": {
      "text/plain": [
       "Actor(\n",
       "  (fc1): Linear(in_features=10, out_features=256, bias=True)\n",
       "  (fc2): Linear(in_features=256, out_features=256, bias=True)\n",
       "  (fc_mean): Linear(in_features=256, out_features=3, bias=True)\n",
       "  (fc_logstd): Linear(in_features=256, out_features=3, bias=True)\n",
       ")"
      ]
     },
     "execution_count": 10,
     "metadata": {},
     "output_type": "execute_result"
    }
   ],
   "source": [
    "import torch \n",
    "from sac import Actor, SoftQNetwork, train_sac\n",
    "\n",
    "observation_shape = [10,]\n",
    "action_shape = [3,]\n",
    "action_space_high =[1,1,1]\n",
    "action_space_low  =[-1,-1,-1]\n",
    "actor = Actor(observation_shape, action_shape, action_space_high, action_space_low)\n",
    "\n",
    "torch.save(actor.state_dict(), \"checkpoint.pt\")\n",
    "actor"
   ]
  },
  {
   "cell_type": "code",
   "execution_count": 12,
   "metadata": {},
   "outputs": [
    {
     "name": "stdout",
     "output_type": "stream",
     "text": [
      "[-0.24893637 -0.5428023  -0.00333434]\n"
     ]
    }
   ],
   "source": [
    "actor = Actor(observation_shape, action_shape, action_space_high, action_space_low)\n",
    "actor.load_state_dict(torch.load(\"checkpoint.pt\"))\n",
    "\n",
    "input = torch.randn(1, 10)\n",
    "action, _, _ = actor.get_action(input)\n",
    "action = action.squeeze(0).detach().cpu().numpy()\n",
    "print(action)"
   ]
  },
  {
   "cell_type": "code",
   "execution_count": null,
   "metadata": {},
   "outputs": [],
   "source": []
  }
 ],
 "metadata": {
  "kernelspec": {
   "display_name": "base",
   "language": "python",
   "name": "python3"
  },
  "language_info": {
   "codemirror_mode": {
    "name": "ipython",
    "version": 3
   },
   "file_extension": ".py",
   "mimetype": "text/x-python",
   "name": "python",
   "nbconvert_exporter": "python",
   "pygments_lexer": "ipython3",
   "version": "3.11.7"
  }
 },
 "nbformat": 4,
 "nbformat_minor": 2
}

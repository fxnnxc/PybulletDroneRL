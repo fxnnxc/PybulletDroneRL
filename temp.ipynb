{
 "cells": [
  {
   "cell_type": "code",
   "execution_count": 1,
   "metadata": {},
   "outputs": [
    {
     "name": "stderr",
     "output_type": "stream",
     "text": [
      "2024-10-30 17:22:36.391317: I tensorflow/core/util/port.cc:153] oneDNN custom operations are on. You may see slightly different numerical results due to floating-point round-off errors from different computation orders. To turn them off, set the environment variable `TF_ENABLE_ONEDNN_OPTS=0`.\n",
      "2024-10-30 17:22:36.404529: E external/local_xla/xla/stream_executor/cuda/cuda_fft.cc:485] Unable to register cuFFT factory: Attempting to register factory for plugin cuFFT when one has already been registered\n",
      "2024-10-30 17:22:36.420855: E external/local_xla/xla/stream_executor/cuda/cuda_dnn.cc:8454] Unable to register cuDNN factory: Attempting to register factory for plugin cuDNN when one has already been registered\n",
      "2024-10-30 17:22:36.425702: E external/local_xla/xla/stream_executor/cuda/cuda_blas.cc:1452] Unable to register cuBLAS factory: Attempting to register factory for plugin cuBLAS when one has already been registered\n",
      "2024-10-30 17:22:36.437538: I tensorflow/core/platform/cpu_feature_guard.cc:210] This TensorFlow binary is optimized to use available CPU instructions in performance-critical operations.\n",
      "To enable the following instructions: AVX2 AVX512F AVX512_VNNI FMA, in other operations, rebuild TensorFlow with the appropriate compiler flags.\n",
      "2024-10-30 17:22:37.146759: W tensorflow/compiler/tf2tensorrt/utils/py_utils.cc:38] TF-TRT Warning: Could not find TensorRT\n"
     ]
    },
    {
     "data": {
      "text/plain": [
       "Actor(\n",
       "  (fc1): Linear(in_features=10, out_features=256, bias=True)\n",
       "  (fc2): Linear(in_features=256, out_features=256, bias=True)\n",
       "  (fc_mean): Linear(in_features=256, out_features=3, bias=True)\n",
       "  (fc_logstd): Linear(in_features=256, out_features=3, bias=True)\n",
       ")"
      ]
     },
     "execution_count": 1,
     "metadata": {},
     "output_type": "execute_result"
    }
   ],
   "source": [
    "from sac import Actor, SoftQNetwork, train_sac\n",
    "\n",
    "observation_shape = [10,]\n",
    "action_shape = [3,]\n",
    "action_space_high =[1,1,1]\n",
    "action_space_low  =[-1,-1,-1]\n",
    "actor = Actor(observation_shape, action_shape, action_space_high, action_space_low)\n",
    "\n",
    "import copy\n",
    "qf1 = SoftQNetwork(observation_shape, action_shape)\n",
    "qf2 = SoftQNetwork(observation_shape, action_shape)\n",
    "qf1_target = copy.deepcopy(qf1)\n",
    "qf2_target = copy.deepcopy(qf2)\n",
    "\n",
    "actor\n"
   ]
  },
  {
   "cell_type": "code",
   "execution_count": null,
   "metadata": {},
   "outputs": [
    {
     "name": "stdout",
     "output_type": "stream",
     "text": [
      "Box(-inf, inf, (3,), float32)\n",
      "Box(-inf, inf, (10,), float32)\n",
      "set:device = cuda\n",
      "set:total_timesteps = 100000\n",
      "set:learning_starts = 1000\n"
     ]
    },
    {
     "name": "stderr",
     "output_type": "stream",
     "text": [
      "  1%|          | 974/100000 [00:00<00:10, 9376.97it/s, return=22]/data1/bumjin/PybulletDroneRL/sac.py:178: UserWarning: Creating a tensor from a list of numpy.ndarrays is extremely slow. Please consider converting the list to a single numpy.ndarray with numpy.array() before converting to a tensor. (Triggered internally at ../torch/csrc/utils/tensor_new.cpp:274.)\n",
      "  actions, _, _ = actor.get_action(torch.Tensor(obs).to(device))\n",
      "  2%|▏         | 1826/100000 [00:12<00:10, 9376.97it/s, return=24]"
     ]
    }
   ],
   "source": [
    "import numpy as np \n",
    "import gymnasium as gym\n",
    "class CustomEnv():\n",
    "    def __init__(self):\n",
    "        action_dim = 3\n",
    "        obs_dim = 10\n",
    "        self.single_action_space  = gym.spaces.Box(-np.inf, np.inf, shape=(action_dim,))\n",
    "        self.single_observation_space  = gym.spaces.Box(-np.inf, np.inf, shape=(obs_dim,), dtype=np.float32)\n",
    "        print(self.single_action_space)\n",
    "        print(self.single_observation_space)\n",
    "        \n",
    "    def step(self, action):\n",
    "        state = self.obs()\n",
    "        reward = 1 \n",
    "        done = False if np.random.random() < 0.95 else True \n",
    "        self.info['episode']['l'] += 1 \n",
    "        self.info['episode']['r'] += reward\n",
    "        self.done = done\n",
    "        return [state], [reward], [done], [done], [self.info] \n",
    "    \n",
    "    def reset(self, seed=0):\n",
    "        self.done = False \n",
    "        state= self.obs()\n",
    "        self.info = {\n",
    "            'episode':{\n",
    "                'r': 0,\n",
    "                'l': 0,\n",
    "            }\n",
    "        }\n",
    "        return state, self.info \n",
    "    \n",
    "    def obs(self):\n",
    "        if self.done:\n",
    "            obs, _ = self.reset()\n",
    "            return obs \n",
    "        else:\n",
    "            return np.random.random(10,)\n",
    "\n",
    "envs = CustomEnv()\n",
    "train_sac(envs, actor, qf1, qf2, qf1_target, qf2_target, run_name='test', \n",
    "          device='cuda',\n",
    "          total_timesteps=100000,\n",
    "          learning_starts=1000,\n",
    ")"
   ]
  },
  {
   "cell_type": "code",
   "execution_count": null,
   "metadata": {},
   "outputs": [],
   "source": []
  }
 ],
 "metadata": {
  "kernelspec": {
   "display_name": "base",
   "language": "python",
   "name": "python3"
  },
  "language_info": {
   "codemirror_mode": {
    "name": "ipython",
    "version": 3
   },
   "file_extension": ".py",
   "mimetype": "text/x-python",
   "name": "python",
   "nbconvert_exporter": "python",
   "pygments_lexer": "ipython3",
   "version": "3.11.7"
  }
 },
 "nbformat": 4,
 "nbformat_minor": 2
}
